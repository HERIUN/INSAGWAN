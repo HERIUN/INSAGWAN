{
  "nbformat": 4,
  "nbformat_minor": 0,
  "metadata": {
    "colab": {
      "name": "과제1주차.ipynb",
      "provenance": [],
      "collapsed_sections": [],
      "authorship_tag": "ABX9TyP+XR7CHxjzGB8/CwjUA1/M",
      "include_colab_link": true
    },
    "kernelspec": {
      "name": "python3",
      "display_name": "Python 3"
    }
  },
  "cells": [
    {
      "cell_type": "markdown",
      "metadata": {
        "id": "view-in-github",
        "colab_type": "text"
      },
      "source": [
        "<a href=\"https://colab.research.google.com/github/HERIUN/INSAGWAN/blob/master/%EA%B3%BC%EC%A0%9C1%EC%A3%BC%EC%B0%A8.ipynb\" target=\"_parent\"><img src=\"https://colab.research.google.com/assets/colab-badge.svg\" alt=\"Open In Colab\"/></a>"
      ]
    },
    {
      "cell_type": "markdown",
      "metadata": {
        "id": "wcSB-jYzpy4i",
        "colab_type": "text"
      },
      "source": [
        "# 과제 1 : 언어, 음성, 이미지, 자율주행\n",
        "\n",
        "# 음성\n",
        "한글text를 읽어주는 Naver CLOVA voice, 아마존의 Alexa\n",
        "\n",
        "https://clova.ai/voice\n",
        "\n",
        "#언어\n",
        "번역에 있어서는 구글번역, youtube 자동 자막 생성\n",
        "\n",
        "#이미지\n",
        "구글 포토(사진을 음식,동물로 분류), 구글 렌즈(카메라를 비추면 어떤 사물인지 인식), 스마트팩토리(제품 불량 확인)\n",
        "\n",
        "#자율주행\n",
        "Tesla의 NOA(Navigation On Autopilot)"
      ]
    }
  ]
}